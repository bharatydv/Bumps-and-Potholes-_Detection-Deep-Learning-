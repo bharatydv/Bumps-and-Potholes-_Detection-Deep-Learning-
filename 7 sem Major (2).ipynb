{
 "cells": [
  {
   "cell_type": "markdown",
   "id": "95fc05ee",
   "metadata": {},
   "source": [
    "# <b><u> Project Title : Bumps and Potholes detection</u></b>"
   ]
  },
  {
   "cell_type": "markdown",
   "id": "3a48d4ac",
   "metadata": {},
   "source": [
    "# <b> Problem Description </b>\n",
    "\n",
    "### Developing a bumps and potholes detection system using machine learning and deep learning involves training a model to analyze road images, identifying irregularities like bumps and potholes, and providing real-time alerts to enhance road safety and infrastructure maintenance.\n",
    "\n",
    "### The project aims to leverage advanced computer vision techniques to automate the detection process for efficient and timely road maintenance.\n",
    "\n"
   ]
  },
  {
   "cell_type": "markdown",
   "id": "81c67922",
   "metadata": {},
   "source": [
    "<img src=\"Picture1.png\">"
   ]
  },
  {
   "cell_type": "markdown",
   "id": "ddeb23b9",
   "metadata": {},
   "source": [
    "## Importing necessary libraries"
   ]
  },
  {
   "cell_type": "code",
   "execution_count": 1,
   "id": "2ba0c500",
   "metadata": {},
   "outputs": [
    {
     "name": "stderr",
     "output_type": "stream",
     "text": [
      "C:\\Users\\HP\\anaconda3\\lib\\site-packages\\scipy\\__init__.py:146: UserWarning: A NumPy version >=1.16.5 and <1.23.0 is required for this version of SciPy (detected version 1.24.3\n",
      "  warnings.warn(f\"A NumPy version >={np_minversion} and <{np_maxversion}\"\n"
     ]
    }
   ],
   "source": [
    "import os\n",
    "import cv2\n",
    "import numpy as np\n",
    "import matplotlib.pyplot as plt\n",
    "from sklearn.model_selection import train_test_split\n",
    "from tensorflow.keras.models import Sequential\n",
    "from tensorflow.keras.layers import Conv2D, MaxPooling2D, Flatten, Dense\n",
    "from tensorflow.keras.optimizers import Adam"
   ]
  },
  {
   "cell_type": "markdown",
   "id": "d105a1bc",
   "metadata": {},
   "source": [
    "##  Step 1: Data Collection"
   ]
  },
  {
   "cell_type": "code",
   "execution_count": 2,
   "id": "cf653efb",
   "metadata": {},
   "outputs": [],
   "source": [
    "data_dir = 'D:\\\\datasets\\\\roadataset'\n",
    "categories = [\"bump\", \"pothole\"]\n",
    "img_size = 1000  # You can adjust this based on your dataset\n"
   ]
  },
  {
   "cell_type": "code",
   "execution_count": 3,
   "id": "e24bbb02",
   "metadata": {},
   "outputs": [],
   "source": [
    "import cv2\n",
    "import os\n",
    "import numpy as np\n",
    "\n",
    "# Define the target image size\n",
    "img_size = (100, 100)  # Adjust as needed\n",
    "data = []  # List to store resized images\n",
    "labels = []  # List to store class labels\n",
    "\n",
    "for category in categories:\n",
    "    path = os.path.join(data_dir, category)\n",
    "    class_num = categories.index(category)\n",
    "    \n",
    "    for img in os.listdir(path):\n",
    "        try:\n",
    "            img_array = cv2.imread(os.path.join(path, img), cv2.IMREAD_GRAYSCALE)\n",
    "            resized_array = cv2.resize(img_array, img_size)\n",
    "            data.append(resized_array)\n",
    "            labels.append(class_num)\n",
    "        except Exception as e:\n",
    "            pass\n",
    "\n",
    "# Convert the data and labels lists to NumPy arrays\n",
    "data = np.array(data)\n",
    "labels = np.array(labels)"
   ]
  },
  {
   "cell_type": "markdown",
   "id": "9be07d79",
   "metadata": {},
   "source": [
    "## Step 2: Define the target image size as a single integer"
   ]
  },
  {
   "cell_type": "code",
   "execution_count": 4,
   "id": "11ed6147",
   "metadata": {},
   "outputs": [],
   "source": [
    "img_size = 100  # Adjust as needed\n",
    "\n",
    "X = data  # No need to create a new list\n",
    "y = labels\n",
    "\n",
    "# Normalize pixel values\n",
    "X = X / 255.0\n",
    "\n",
    "# Reshape the images to match the expected input shape for your model\n",
    "X = X.reshape(-1, img_size, img_size, 1)\n",
    "\n"
   ]
  },
  {
   "cell_type": "markdown",
   "id": "64e83966",
   "metadata": {},
   "source": [
    "# Split the dataset into training and testing sets"
   ]
  },
  {
   "cell_type": "code",
   "execution_count": 5,
   "id": "25647292",
   "metadata": {},
   "outputs": [],
   "source": [
    "X_train, X_test, y_train, y_test = train_test_split(X, y, test_size=0.2, random_state=42)"
   ]
  },
  {
   "cell_type": "markdown",
   "id": "33d15cae",
   "metadata": {},
   "source": [
    "## Step 3: Model Development"
   ]
  },
  {
   "cell_type": "code",
   "execution_count": 6,
   "id": "f3199f88",
   "metadata": {},
   "outputs": [],
   "source": [
    "model = Sequential()\n",
    "model.add(Conv2D(32, (3, 3), activation=\"relu\", input_shape=X_train.shape[1:]))\n",
    "model.add(MaxPooling2D(pool_size=(2, 2)))\n",
    "model.add(Conv2D(64, (3, 3), activation=\"relu\"))\n",
    "model.add(MaxPooling2D(pool_size=(2, 2)))\n",
    "model.add(Flatten())\n",
    "model.add(Dense(64, activation=\"relu\"))\n",
    "model.add(Dense(1, activation=\"sigmoid\"))"
   ]
  },
  {
   "cell_type": "markdown",
   "id": "4e3a5718",
   "metadata": {},
   "source": [
    "## Compile the model"
   ]
  },
  {
   "cell_type": "code",
   "execution_count": 7,
   "id": "0371e6e7",
   "metadata": {},
   "outputs": [],
   "source": [
    "\n",
    "model.compile(optimizer=Adam(learning_rate=0.001), loss=\"binary_crossentropy\", metrics=[\"accuracy\"])\n"
   ]
  },
  {
   "cell_type": "markdown",
   "id": "ac9257a5",
   "metadata": {},
   "source": [
    "## Step 4: Model Training"
   ]
  },
  {
   "cell_type": "code",
   "execution_count": 8,
   "id": "c637314c",
   "metadata": {},
   "outputs": [
    {
     "name": "stdout",
     "output_type": "stream",
     "text": [
      "Epoch 1/10\n",
      "5/5 [==============================] - 1s 144ms/step - loss: 0.9644 - accuracy: 0.4470 - val_loss: 0.6255 - val_accuracy: 0.6000\n",
      "Epoch 2/10\n",
      "5/5 [==============================] - 1s 108ms/step - loss: 0.6683 - accuracy: 0.5530 - val_loss: 0.4580 - val_accuracy: 1.0000\n",
      "Epoch 3/10\n",
      "5/5 [==============================] - 1s 105ms/step - loss: 0.4108 - accuracy: 0.9545 - val_loss: 0.2546 - val_accuracy: 0.8667\n",
      "Epoch 4/10\n",
      "5/5 [==============================] - 1s 117ms/step - loss: 0.2666 - accuracy: 0.8712 - val_loss: 0.2049 - val_accuracy: 0.8667\n",
      "Epoch 5/10\n",
      "5/5 [==============================] - 1s 177ms/step - loss: 0.1916 - accuracy: 0.9167 - val_loss: 0.0539 - val_accuracy: 1.0000\n",
      "Epoch 6/10\n",
      "5/5 [==============================] - 1s 180ms/step - loss: 0.1090 - accuracy: 0.9470 - val_loss: 0.0370 - val_accuracy: 1.0000\n",
      "Epoch 7/10\n",
      "5/5 [==============================] - 1s 159ms/step - loss: 0.1304 - accuracy: 0.9470 - val_loss: 0.0371 - val_accuracy: 1.0000\n",
      "Epoch 8/10\n",
      "5/5 [==============================] - 1s 172ms/step - loss: 0.0887 - accuracy: 0.9621 - val_loss: 0.0676 - val_accuracy: 1.0000\n",
      "Epoch 9/10\n",
      "5/5 [==============================] - 1s 159ms/step - loss: 0.0755 - accuracy: 0.9773 - val_loss: 0.0293 - val_accuracy: 1.0000\n",
      "Epoch 10/10\n",
      "5/5 [==============================] - 1s 161ms/step - loss: 0.0424 - accuracy: 0.9924 - val_loss: 0.0260 - val_accuracy: 1.0000\n"
     ]
    }
   ],
   "source": [
    "\n",
    "epochs = 10  # You can adjust the number of epochs\n",
    "batch_size = 32\n",
    "\n",
    "history = model.fit(X_train, y_train, epochs=epochs, batch_size=batch_size, validation_split=0.1)"
   ]
  },
  {
   "cell_type": "markdown",
   "id": "e7dcb9ea",
   "metadata": {},
   "source": [
    "## Step 5: Model Evaluation"
   ]
  },
  {
   "cell_type": "code",
   "execution_count": 9,
   "id": "712f4d65",
   "metadata": {},
   "outputs": [
    {
     "name": "stdout",
     "output_type": "stream",
     "text": [
      "2/2 [==============================] - 0s 25ms/step - loss: 0.0338 - accuracy: 1.0000\n",
      "Test Loss: 0.03376518562436104\n",
      "Test Accuracy: 1.0\n"
     ]
    }
   ],
   "source": [
    "\n",
    "test_loss, test_acc = model.evaluate(X_test, y_test)\n",
    "print(f\"Test Loss: {test_loss}\")\n",
    "print(f\"Test Accuracy: {test_acc}\")"
   ]
  },
  {
   "cell_type": "markdown",
   "id": "d1c53ee1",
   "metadata": {},
   "source": [
    "## Step 6: Visualization"
   ]
  },
  {
   "cell_type": "code",
   "execution_count": 23,
   "id": "8c11aa13",
   "metadata": {},
   "outputs": [
    {
     "data": {
      "image/png": "[encoded data removed]",
      "text/plain": [
       "<Figure size 432x288 with 1 Axes>"
      ]
     },
     "metadata": {
      "needs_background": "light"
     },
     "output_type": "display_data"
    }
   ],
   "source": [
    " \n",
    "plt.plot(history.history[\"accuracy\"], label=\"accuracy\")\n",
    "plt.plot(history.history[\"val_accuracy\"], label=\"val_accuracy\")\n",
    "plt.xlabel(\"Epoch\")\n",
    "plt.ylabel(\"Accuracy\")\n",
    "plt.ylim([0, 1])\n",
    "plt.legend(loc=\"lower right\")\n",
    "plt.show()"
   ]
  },
  {
   "cell_type": "code",
   "execution_count": 11,
   "id": "a378065d",
   "metadata": {},
   "outputs": [
    {
     "data": {
      "image/png": "[encoded data removed]",
      "text/plain": [
       "<Figure size 432x288 with 1 Axes>"
      ]
     },
     "metadata": {
      "needs_background": "light"
     },
     "output_type": "display_data"
    }
   ],
   "source": [
    "\n",
    "plt.plot(history.history[\"accuracy\"], label=\"accuracy\")\n",
    "plt.plot(history.history[\"val_accuracy\"], label=\"val_accuracy\")\n",
    "plt.xlabel(\"Epoch\")\n",
    "plt.ylabel(\"Accuracy\")\n",
    "plt.ylim([0, 1])\n",
    "plt.legend(loc=\"lower right\")\n",
    "plt.show()"
   ]
  },
  {
   "cell_type": "markdown",
   "id": "f8699fa1",
   "metadata": {},
   "source": [
    "##  Step 7: Inference (Predict Bumps and Potholes)"
   ]
  },
  {
   "cell_type": "code",
   "execution_count": 12,
   "id": "86c33bcd",
   "metadata": {},
   "outputs": [],
   "source": [
    "\n",
    "def predict_image(path):\n",
    "    img = cv2.imread(path, cv2.IMREAD_GRAYSCALE)\n",
    "    resized_img = cv2.resize(img, (img_size, img_size))\n",
    "    resized_img = np.array(resized_img) / 255.0\n",
    "    resized_img = resized_img.reshape(-1, img_size, img_size, 1)\n",
    "    prediction = model.predict(resized_img)\n",
    "    return prediction"
   ]
  },
  {
   "cell_type": "markdown",
   "id": "94d17b2d",
   "metadata": {},
   "source": [
    "## Example usage:"
   ]
  },
  {
   "cell_type": "code",
   "execution_count": 13,
   "id": "1cfc7ec0",
   "metadata": {},
   "outputs": [
    {
     "name": "stdout",
     "output_type": "stream",
     "text": [
      "1/1 [==============================] - 0s 70ms/step\n",
      "Predicted: Pothole\n"
     ]
    }
   ],
   "source": [
    "\n",
    "image_path = \"C:\\\\Users\\\\HP\\\\OneDrive\\\\Desktop\\\\image.jpeg\"\n",
    "prediction = predict_image(image_path)\n",
    "if prediction >= 0.5:\n",
    "    print(\"Predicted: Pothole\")\n",
    "else:\n",
    "    print(\"Predicted: Bump\")"
   ]
  },
  {
   "cell_type": "code",
   "execution_count": null,
   "id": "70827487",
   "metadata": {},
   "outputs": [],
   "source": []
  },
  {
   "cell_type": "code",
   "execution_count": 14,
   "id": "2bc637aa",
   "metadata": {},
   "outputs": [],
   "source": [
    "import cv2\n",
    "import numpy as np"
   ]
  },
  {
   "cell_type": "markdown",
   "id": "4b13d8e6",
   "metadata": {},
   "source": [
    "## Load an image\n"
   ]
  },
  {
   "cell_type": "code",
   "execution_count": 15,
   "id": "5098153b",
   "metadata": {},
   "outputs": [],
   "source": [
    "\n",
    "image_path = 'image.jpeg'\n",
    "image = cv2.imread(image_path)"
   ]
  },
  {
   "cell_type": "markdown",
   "id": "4f459179",
   "metadata": {},
   "source": [
    "## Convert the image to grayscale "
   ]
  },
  {
   "cell_type": "code",
   "execution_count": 16,
   "id": "b86f38a7",
   "metadata": {},
   "outputs": [],
   "source": [
    "\n",
    "gray = cv2.cvtColor(image, cv2.COLOR_BGR2GRAY)"
   ]
  },
  {
   "cell_type": "markdown",
   "id": "5b8644d4",
   "metadata": {},
   "source": [
    "## Apply Gaussian blur to reduce noise "
   ]
  },
  {
   "cell_type": "code",
   "execution_count": 17,
   "id": "213866e4",
   "metadata": {},
   "outputs": [],
   "source": [
    "blurred = cv2.GaussianBlur(gray, (5, 5), 0)\n"
   ]
  },
  {
   "cell_type": "markdown",
   "id": "a8b117e5",
   "metadata": {},
   "source": [
    "## Use thresholding to detect bumps (adjust the threshold as needed) "
   ]
  },
  {
   "cell_type": "code",
   "execution_count": 24,
   "id": "d74fc0b1",
   "metadata": {},
   "outputs": [],
   "source": [
    "\n",
    "_, thresholded = cv2.threshold(blurred, 100, 255, cv2.THRESH_BINARY)"
   ]
  },
  {
   "cell_type": "markdown",
   "id": "932c5d28",
   "metadata": {},
   "source": [
    "## Find contours in the thresholded image"
   ]
  },
  {
   "cell_type": "code",
   "execution_count": 19,
   "id": "ad000722",
   "metadata": {},
   "outputs": [],
   "source": [
    "contours, _ = cv2.findContours(thresholded, cv2.RETR_EXTERNAL, cv2.CHAIN_APPROX_SIMPLE)\n"
   ]
  },
  {
   "cell_type": "markdown",
   "id": "0b990f89",
   "metadata": {},
   "source": [
    "## Draw the contours on the original image "
   ]
  },
  {
   "cell_type": "code",
   "execution_count": 20,
   "id": "b8981d4d",
   "metadata": {},
   "outputs": [
    {
     "data": {
      "text/plain": [
       "array([[[ 20,  88,  47],\n",
       "        [  2,  70,  29],\n",
       "        [ 23,  91,  50],\n",
       "        ...,\n",
       "        [  0, 255,   0],\n",
       "        [  0, 255,   0],\n",
       "        [  0, 255,   0]],\n",
       "\n",
       "       [[ 14,  81,  42],\n",
       "        [  9,  76,  37],\n",
       "        [ 15,  82,  43],\n",
       "        ...,\n",
       "        [  0, 255,   0],\n",
       "        [  0, 255,   0],\n",
       "        [  0, 255,   0]],\n",
       "\n",
       "       [[ 20,  86,  51],\n",
       "        [ 22,  88,  53],\n",
       "        [ 26,  92,  57],\n",
       "        ...,\n",
       "        [ 73, 146, 106],\n",
       "        [  0, 255,   0],\n",
       "        [  0, 255,   0]],\n",
       "\n",
       "       ...,\n",
       "\n",
       "       [[  1,   1,   1],\n",
       "        [  1,   1,   1],\n",
       "        [  1,   1,   1],\n",
       "        ...,\n",
       "        [  1,   1,   1],\n",
       "        [  1,   1,   1],\n",
       "        [  1,   1,   1]],\n",
       "\n",
       "       [[  1,   1,   1],\n",
       "        [  1,   1,   1],\n",
       "        [  1,   1,   1],\n",
       "        ...,\n",
       "        [  1,   1,   1],\n",
       "        [  1,   1,   1],\n",
       "        [  1,   1,   1]],\n",
       "\n",
       "       [[  1,   1,   1],\n",
       "        [  1,   1,   1],\n",
       "        [  1,   1,   1],\n",
       "        ...,\n",
       "        [  1,   1,   1],\n",
       "        [  1,   1,   1],\n",
       "        [  1,   1,   1]]], dtype=uint8)"
      ]
     },
     "execution_count": 20,
     "metadata": {},
     "output_type": "execute_result"
    }
   ],
   "source": [
    "result = image.copy()\n",
    "cv2.drawContours(result, contours, -1, (0, 255, 0), 2)"
   ]
  },
  {
   "cell_type": "markdown",
   "id": "fc15fd52",
   "metadata": {},
   "source": [
    "# # Display the original image with detected bumps"
   ]
  },
  {
   "cell_type": "code",
   "execution_count": 21,
   "id": "2f304b0e",
   "metadata": {},
   "outputs": [],
   "source": [
    "\n",
    "cv2.imshow('Bump Detection', result)\n",
    "cv2.waitKey(0)\n",
    "cv2.destroyAllWindows()"
   ]
  }
 ],
 "metadata": {
  "kernelspec": {
   "display_name": "Python 3 (ipykernel)",
   "language": "python",
   "name": "python3"
  },
  "language_info": {
   "codemirror_mode": {
    "name": "ipython",
    "version": 3
   },
   "file_extension": ".py",
   "mimetype": "text/x-python",
   "name": "python",
   "nbconvert_exporter": "python",
   "pygments_lexer": "ipython3",
   "version": "3.9.12"
  }
 },
 "nbformat": 4,
 "nbformat_minor": 5
}
